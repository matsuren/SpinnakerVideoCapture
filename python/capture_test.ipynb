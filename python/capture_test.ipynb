{
 "cells": [
  {
   "cell_type": "code",
   "execution_count": null,
   "metadata": {},
   "outputs": [],
   "source": [
    "import os\n",
    "import PySpin\n",
    "import cv2\n",
    "import time\n",
    "import numpy as np\n",
    "\n",
    "# Retrieve singleton reference to system object\n",
    "system = PySpin.System.GetInstance()\n",
    "\n",
    "# Get current library version\n",
    "version = system.GetLibraryVersion()\n",
    "print('Library version: %d.%d.%d.%d' % (version.major, version.minor, version.type, version.build))\n",
    "\n",
    "\n",
    "# Retrieve list of cameras from the system\n",
    "cam_list = system.GetCameras()\n",
    "num_cameras = cam_list.GetSize()\n",
    "\n",
    "print('Number of cameras detected: %d' % num_cameras)\n",
    "\n",
    "cam = cam_list.GetByIndex(0)\n",
    "cam.Init()\n",
    "cam.TLStream.StreamBufferHandlingMode.SetValue(PySpin.StreamBufferHandlingMode_NewestOnly)\n",
    "cam.PixelFormat.SetValue(PySpin.PixelFormat_BayerGB8)\n",
    "print('Pixel format:', cam.PixelFormat.GetCurrentEntry().GetSymbolic())\n",
    "device_model = cam.DeviceModelName.ToString()\n",
    "print('Device model:', device_model)"
   ]
  },
  {
   "cell_type": "code",
   "execution_count": null,
   "metadata": {},
   "outputs": [],
   "source": [
    "# image acquisition\n",
    "cam.AcquisitionMode.SetValue(PySpin.AcquisitionMode_Continuous)\n",
    "if False:\n",
    "    # # trigger setting\n",
    "    cam.TriggerMode.SetValue(PySpin.TriggerMode_Off)\n",
    "    cam.TriggerSource.SetValue(PySpin.TriggerSource_Software)\n",
    "    cam.TriggerMode.SetValue(PySpin.TriggerMode_On)\n",
    "    print(\"set trigger mode software\")\n",
    "else:\n",
    "    fps = 30\n",
    "    print('set FPS:', fps)\n",
    "    nodemap = cam.GetNodeMap()\n",
    "    cam.TriggerMode.SetValue(PySpin.TriggerMode_Off)\n",
    "    node = PySpin.CEnumerationPtr(nodemap.GetNode('AcquisitionFrameRateAuto'))\n",
    "    if PySpin.IsAvailable(node) and PySpin.IsWritable(node):\n",
    "        val = PySpin.CEnumEntryPtr(node.GetEntryByName(\"Off\")).GetValue() # Once, Continuous\n",
    "        node.SetIntValue(val)\n",
    "        cam.AcquisitionFrameRate.SetValue(fps)\n",
    "    else:\n",
    "        print('Error setting fps:')\n",
    "# Get serial number\n",
    "print('Serial number:', cam.DeviceSerialNumber.ToString())\n",
    "cam.BeginAcquisition()\n",
    "\n",
    "print('start capturing')\n",
    "elps = []\n",
    "while True:\n",
    "    start = time.time()\n",
    "#     cam.TriggerSoftware()\n",
    "    image_result = cam.GetNextImage()\n",
    "    if image_result.IsIncomplete():\n",
    "        print('Error')\n",
    "#     image_converted = image_result.Convert(PySpin.PixelFormat_BGR8, PySpin.HQ_LINEAR) # slow\n",
    "#     img = image_converted.GetNDArray()\n",
    "    img = image_result.GetNDArray()\n",
    "    # bayer pattern is correct?\n",
    "    img = cv2.cvtColor(img, cv2.COLOR_BAYER_GR2BGR)\n",
    "    img = cv2.resize(img, (640, 640))\n",
    "\n",
    "    cv2.imshow('color', img)\n",
    "    key = cv2.waitKey(5)\n",
    "    elps.append((time.time()-start))\n",
    "\n",
    "    if key == 27:\n",
    "        break\n",
    "    image_result.Release()\n",
    "\n",
    "cv2.destroyAllWindows()\n",
    "print('finish capturing')\n",
    "print('Average fps:', 1/np.array(elps).mean())\n",
    "\n",
    "cam.EndAcquisition()\n",
    "cam.DeInit()\n",
    "del cam\n",
    "# Clear camera list before releasing system\n",
    "cam_list.Clear()\n",
    "\n",
    "# Release system instance\n",
    "system.ReleaseInstance()\n",
    "del system\n",
    "print('release everything')"
   ]
  }
 ],
 "metadata": {
  "kernelspec": {
   "display_name": "Python 3",
   "language": "python",
   "name": "python3"
  },
  "language_info": {
   "codemirror_mode": {
    "name": "ipython",
    "version": 3
   },
   "file_extension": ".py",
   "mimetype": "text/x-python",
   "name": "python",
   "nbconvert_exporter": "python",
   "pygments_lexer": "ipython3",
   "version": "3.7.3"
  },
  "toc": {
   "nav_menu": {},
   "number_sections": true,
   "sideBar": true,
   "skip_h1_title": false,
   "title_cell": "Table of Contents",
   "title_sidebar": "Contents",
   "toc_cell": false,
   "toc_position": {},
   "toc_section_display": true,
   "toc_window_display": false
  },
  "varInspector": {
   "cols": {
    "lenName": 16,
    "lenType": 16,
    "lenVar": 40
   },
   "kernels_config": {
    "python": {
     "delete_cmd_postfix": "",
     "delete_cmd_prefix": "del ",
     "library": "var_list.py",
     "varRefreshCmd": "print(var_dic_list())"
    },
    "r": {
     "delete_cmd_postfix": ") ",
     "delete_cmd_prefix": "rm(",
     "library": "var_list.r",
     "varRefreshCmd": "cat(var_dic_list()) "
    }
   },
   "types_to_exclude": [
    "module",
    "function",
    "builtin_function_or_method",
    "instance",
    "_Feature"
   ],
   "window_display": false
  }
 },
 "nbformat": 4,
 "nbformat_minor": 2
}
